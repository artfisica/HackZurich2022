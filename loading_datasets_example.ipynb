{
 "cells": [
  {
   "cell_type": "code",
   "execution_count": 3,
   "metadata": {},
   "outputs": [],
   "source": [
    "!pip install pandas\n",
    "!pip install requests\n",
    "!pip install xarray\n",
    "!pip install geopandas\n",
    "!pip install pyaxis\n",
    "!pip install matplotlib\n",
    "!pip install owslib"
   ]
  },
  {
   "cell_type": "code",
   "execution_count": 4,
   "metadata": {},
   "outputs": [],
   "source": [
    "import pandas as pd\n",
    "import requests\n",
    "from matplotlib import pyplot\n",
    "import xarray as xr\n",
    "import geopandas as gpd\n",
    "import xarray as xr\n",
    "import pyaxis\n",
    "import owslib\n",
    "import tempfile"
   ]
  },
  {
   "cell_type": "markdown",
   "metadata": {},
   "source": [
    "## Introduction\n",
    "\n",
    "This notebook helps you go through the dataset listed under the **DATA** section of the challenge. Below you fill find some examples on how to load dataset depending on its format."
   ]
  },
  {
   "cell_type": "markdown",
   "metadata": {},
   "source": [
    "# Datasets"
   ]
  },
  {
   "cell_type": "markdown",
   "metadata": {},
   "source": [
    "## 1. TXT Example"
   ]
  },
  {
   "cell_type": "markdown",
   "metadata": {},
   "source": [
    "The first data from the list called [**Homogeneous data series since 1864, temp and precipitation, per month/year**](https://www.meteoswiss.admin.ch/home/climate/swiss-climate-in-detail/homogeneous-data-series-since-1864.html?region=Table) gives you an insight of precipitation or temperature through the years in different areas in Switzerland. \n",
    "\n",
    "You can access to a given dataset as such :"
   ]
  },
  {
   "cell_type": "code",
   "execution_count": 4,
   "metadata": {},
   "outputs": [],
   "source": [
    "url_prec_ge = \"https://www.meteoswiss.admin.ch/product/output/climate-data/homogenous-monthly-data-processing/data/homog_mo_GVE.txt\""
   ]
  },
  {
   "cell_type": "code",
   "execution_count": 5,
   "metadata": {},
   "outputs": [],
   "source": [
    "response = requests.get(url_prec_ge)"
   ]
  },
  {
   "cell_type": "code",
   "execution_count": 8,
   "metadata": {},
   "outputs": [],
   "source": [
    "with open(\"./data/GE.txt\", \"w\") as f:\n",
    "    f.write(response.text)"
   ]
  },
  {
   "cell_type": "code",
   "execution_count": 9,
   "metadata": {},
   "outputs": [],
   "source": [
    "df = pd.read_csv(\"./data/GE.txt\", encoding=\"ISO-8859-1\", header = 18, delim_whitespace=True)"
   ]
  },
  {
   "cell_type": "code",
   "execution_count": 10,
   "metadata": {},
   "outputs": [
    {
     "data": {
      "text/html": [
       "<div>\n",
       "<style scoped>\n",
       "    .dataframe tbody tr th:only-of-type {\n",
       "        vertical-align: middle;\n",
       "    }\n",
       "\n",
       "    .dataframe tbody tr th {\n",
       "        vertical-align: top;\n",
       "    }\n",
       "\n",
       "    .dataframe thead th {\n",
       "        text-align: right;\n",
       "    }\n",
       "</style>\n",
       "<table border=\"1\" class=\"dataframe\">\n",
       "  <thead>\n",
       "    <tr style=\"text-align: right;\">\n",
       "      <th></th>\n",
       "      <th>Year</th>\n",
       "      <th>Month</th>\n",
       "      <th>Temperature</th>\n",
       "      <th>Precipitation</th>\n",
       "    </tr>\n",
       "  </thead>\n",
       "  <tbody>\n",
       "    <tr>\n",
       "      <th>0</th>\n",
       "      <td>1864</td>\n",
       "      <td>1</td>\n",
       "      <td>-4.2</td>\n",
       "      <td>13.6</td>\n",
       "    </tr>\n",
       "    <tr>\n",
       "      <th>1</th>\n",
       "      <td>1864</td>\n",
       "      <td>2</td>\n",
       "      <td>-0.7</td>\n",
       "      <td>17.2</td>\n",
       "    </tr>\n",
       "    <tr>\n",
       "      <th>2</th>\n",
       "      <td>1864</td>\n",
       "      <td>3</td>\n",
       "      <td>5.3</td>\n",
       "      <td>32.7</td>\n",
       "    </tr>\n",
       "    <tr>\n",
       "      <th>3</th>\n",
       "      <td>1864</td>\n",
       "      <td>4</td>\n",
       "      <td>8.3</td>\n",
       "      <td>35.2</td>\n",
       "    </tr>\n",
       "    <tr>\n",
       "      <th>4</th>\n",
       "      <td>1864</td>\n",
       "      <td>5</td>\n",
       "      <td>13.5</td>\n",
       "      <td>68.9</td>\n",
       "    </tr>\n",
       "    <tr>\n",
       "      <th>...</th>\n",
       "      <td>...</td>\n",
       "      <td>...</td>\n",
       "      <td>...</td>\n",
       "      <td>...</td>\n",
       "    </tr>\n",
       "    <tr>\n",
       "      <th>1899</th>\n",
       "      <td>2022</td>\n",
       "      <td>4</td>\n",
       "      <td>10.3</td>\n",
       "      <td>54.0</td>\n",
       "    </tr>\n",
       "    <tr>\n",
       "      <th>1900</th>\n",
       "      <td>2022</td>\n",
       "      <td>5</td>\n",
       "      <td>17.6</td>\n",
       "      <td>12.0</td>\n",
       "    </tr>\n",
       "    <tr>\n",
       "      <th>1901</th>\n",
       "      <td>2022</td>\n",
       "      <td>6</td>\n",
       "      <td>21.2</td>\n",
       "      <td>63.9</td>\n",
       "    </tr>\n",
       "    <tr>\n",
       "      <th>1902</th>\n",
       "      <td>2022</td>\n",
       "      <td>7</td>\n",
       "      <td>23.6</td>\n",
       "      <td>5.0</td>\n",
       "    </tr>\n",
       "    <tr>\n",
       "      <th>1903</th>\n",
       "      <td>2022</td>\n",
       "      <td>8</td>\n",
       "      <td>22.3</td>\n",
       "      <td>48.0</td>\n",
       "    </tr>\n",
       "  </tbody>\n",
       "</table>\n",
       "<p>1904 rows × 4 columns</p>\n",
       "</div>"
      ],
      "text/plain": [
       "      Year  Month  Temperature  Precipitation\n",
       "0     1864      1         -4.2           13.6\n",
       "1     1864      2         -0.7           17.2\n",
       "2     1864      3          5.3           32.7\n",
       "3     1864      4          8.3           35.2\n",
       "4     1864      5         13.5           68.9\n",
       "...    ...    ...          ...            ...\n",
       "1899  2022      4         10.3           54.0\n",
       "1900  2022      5         17.6           12.0\n",
       "1901  2022      6         21.2           63.9\n",
       "1902  2022      7         23.6            5.0\n",
       "1903  2022      8         22.3           48.0\n",
       "\n",
       "[1904 rows x 4 columns]"
      ]
     },
     "execution_count": 10,
     "metadata": {},
     "output_type": "execute_result"
    }
   ],
   "source": [
    "df"
   ]
  },
  {
   "cell_type": "code",
   "execution_count": 11,
   "metadata": {},
   "outputs": [
    {
     "name": "stdout",
     "output_type": "stream",
     "text": [
      "   Year  Month  Temperature  Precipitation\n",
      "0  1864      1         -4.2           13.6\n",
      "1  1864      2         -0.7           17.2\n",
      "2  1864      3          5.3           32.7\n",
      "3  1864      4          8.3           35.2\n",
      "4  1864      5         13.5           68.9\n"
     ]
    }
   ],
   "source": [
    "series = df\n",
    "print(series.head())"
   ]
  },
  {
   "cell_type": "code",
   "execution_count": 17,
   "metadata": {},
   "outputs": [],
   "source": [
    "series['DATE'] = pd.to_datetime(series[['Year', 'Month']].assign(DAY=1))"
   ]
  },
  {
   "cell_type": "code",
   "execution_count": 18,
   "metadata": {},
   "outputs": [
    {
     "data": {
      "text/html": [
       "<div>\n",
       "<style scoped>\n",
       "    .dataframe tbody tr th:only-of-type {\n",
       "        vertical-align: middle;\n",
       "    }\n",
       "\n",
       "    .dataframe tbody tr th {\n",
       "        vertical-align: top;\n",
       "    }\n",
       "\n",
       "    .dataframe thead th {\n",
       "        text-align: right;\n",
       "    }\n",
       "</style>\n",
       "<table border=\"1\" class=\"dataframe\">\n",
       "  <thead>\n",
       "    <tr style=\"text-align: right;\">\n",
       "      <th></th>\n",
       "      <th>Year</th>\n",
       "      <th>Month</th>\n",
       "      <th>Temperature</th>\n",
       "      <th>Precipitation</th>\n",
       "      <th>DATE</th>\n",
       "    </tr>\n",
       "  </thead>\n",
       "  <tbody>\n",
       "    <tr>\n",
       "      <th>0</th>\n",
       "      <td>1864</td>\n",
       "      <td>1</td>\n",
       "      <td>-4.2</td>\n",
       "      <td>13.6</td>\n",
       "      <td>1864-01-01</td>\n",
       "    </tr>\n",
       "    <tr>\n",
       "      <th>1</th>\n",
       "      <td>1864</td>\n",
       "      <td>2</td>\n",
       "      <td>-0.7</td>\n",
       "      <td>17.2</td>\n",
       "      <td>1864-02-01</td>\n",
       "    </tr>\n",
       "    <tr>\n",
       "      <th>2</th>\n",
       "      <td>1864</td>\n",
       "      <td>3</td>\n",
       "      <td>5.3</td>\n",
       "      <td>32.7</td>\n",
       "      <td>1864-03-01</td>\n",
       "    </tr>\n",
       "    <tr>\n",
       "      <th>3</th>\n",
       "      <td>1864</td>\n",
       "      <td>4</td>\n",
       "      <td>8.3</td>\n",
       "      <td>35.2</td>\n",
       "      <td>1864-04-01</td>\n",
       "    </tr>\n",
       "    <tr>\n",
       "      <th>4</th>\n",
       "      <td>1864</td>\n",
       "      <td>5</td>\n",
       "      <td>13.5</td>\n",
       "      <td>68.9</td>\n",
       "      <td>1864-05-01</td>\n",
       "    </tr>\n",
       "  </tbody>\n",
       "</table>\n",
       "</div>"
      ],
      "text/plain": [
       "   Year  Month  Temperature  Precipitation       DATE\n",
       "0  1864      1         -4.2           13.6 1864-01-01\n",
       "1  1864      2         -0.7           17.2 1864-02-01\n",
       "2  1864      3          5.3           32.7 1864-03-01\n",
       "3  1864      4          8.3           35.2 1864-04-01\n",
       "4  1864      5         13.5           68.9 1864-05-01"
      ]
     },
     "execution_count": 18,
     "metadata": {},
     "output_type": "execute_result"
    }
   ],
   "source": [
    "series.head()"
   ]
  },
  {
   "cell_type": "code",
   "execution_count": 47,
   "metadata": {},
   "outputs": [
    {
     "data": {
      "text/plain": [
       "<AxesSubplot:xlabel='Year'>"
      ]
     },
     "execution_count": 47,
     "metadata": {},
     "output_type": "execute_result"
    },
    {
     "data": {
      "image/png": "[encoded data removed]",
      "text/plain": [
       "<Figure size 432x288 with 1 Axes>"
      ]
     },
     "metadata": {
      "needs_background": "light"
     },
     "output_type": "display_data"
    }
   ],
   "source": [
    "# Average temp through the years in Geneva\n",
    "series[:-8].groupby('Year', as_index=False).agg({\"Temperature\": \"mean\"}).plot(x='Year', y='Temperature')"
   ]
  },
  {
   "cell_type": "code",
   "execution_count": 44,
   "metadata": {},
   "outputs": [
    {
     "data": {
      "text/plain": [
       "<AxesSubplot:xlabel='Year'>"
      ]
     },
     "execution_count": 44,
     "metadata": {},
     "output_type": "execute_result"
    },
    {
     "data": {
      "image/png": "[encoded data removed]",
      "text/plain": [
       "<Figure size 432x288 with 1 Axes>"
      ]
     },
     "metadata": {
      "needs_background": "light"
     },
     "output_type": "display_data"
    }
   ],
   "source": [
    "# Temp though the years for July in Geneva\n",
    "series.loc[series[\"Month\"]==7].plot(x='Year', y='Temperature')"
   ]
  },
  {
   "cell_type": "code",
   "execution_count": 45,
   "metadata": {},
   "outputs": [
    {
     "data": {
      "text/plain": [
       "<AxesSubplot:xlabel='Year'>"
      ]
     },
     "execution_count": 45,
     "metadata": {},
     "output_type": "execute_result"
    },
    {
     "data": {
      "image/png": "[encoded data removed]",
      "text/plain": [
       "<Figure size 432x288 with 1 Axes>"
      ]
     },
     "metadata": {
      "needs_background": "light"
     },
     "output_type": "display_data"
    }
   ],
   "source": [
    "# Temp though the years for January in Geneva\n",
    "series.loc[series[\"Month\"]==1].plot(x='Year', y='Temperature')"
   ]
  },
  {
   "cell_type": "code",
   "execution_count": 46,
   "metadata": {},
   "outputs": [
    {
     "data": {
      "text/plain": [
       "<AxesSubplot:xlabel='Year'>"
      ]
     },
     "execution_count": 46,
     "metadata": {},
     "output_type": "execute_result"
    },
    {
     "data": {
      "image/png": "[encoded data removed]",
      "text/plain": [
       "<Figure size 432x288 with 1 Axes>"
      ]
     },
     "metadata": {
      "needs_background": "light"
     },
     "output_type": "display_data"
    }
   ],
   "source": [
    "series[:-8].groupby('Year', as_index=False).agg({\"Precipitation\": \"mean\"}).plot(x='Year', y='Precipitation')"
   ]
  },
  {
   "cell_type": "markdown",
   "metadata": {},
   "source": [
    "## 2. CSV Example"
   ]
  },
  {
   "cell_type": "markdown",
   "metadata": {},
   "source": [
    "In the link called [Klimamessnetz Tageswerte seit Messbeginn](https://opendata.swiss/de/dataset/klimamessnetz-tageswerte), you can download a zip file containing multiple csv. \n",
    "\n",
    "Check text file in [this](https://data.geo.admin.ch/ch.meteoschweiz.klima/nbcn-tageswerte/data.zip) zip to get an explenation of the data."
   ]
  },
  {
   "cell_type": "markdown",
   "metadata": {},
   "source": [
    "### List of urls"
   ]
  },
  {
   "cell_type": "code",
   "execution_count": 135,
   "metadata": {},
   "outputs": [],
   "source": [
    "url_list = \"https://data.geo.admin.ch/ch.meteoschweiz.klima/nbcn-tageswerte/liste-download-nbcn-d.csv\""
   ]
  },
  {
   "cell_type": "code",
   "execution_count": 140,
   "metadata": {},
   "outputs": [],
   "source": [
    "df_urls = pd.read_csv(url_list, encoding=\"ISO-8859-1\", sep = \";\")"
   ]
  },
  {
   "cell_type": "code",
   "execution_count": null,
   "metadata": {},
   "outputs": [],
   "source": [
    "for index, row in df_urls[:30].iterrows():\n",
    "    print(row[\"URL Current year\"]) # Also URL Previous years (verified data)"
   ]
  },
  {
   "cell_type": "markdown",
   "metadata": {},
   "source": [
    "# 3 .NC Example"
   ]
  },
  {
   "cell_type": "markdown",
   "metadata": {},
   "source": [
    "Data taken from this [url](https://opendata.swiss/de/dataset/klimamessnetz-tageswerte). Access to the text file within the zip folder to get the different urls to download a specific dataset.\n",
    "\n",
    "In this example, we used this [link](https://data.geo.admin.ch/ch.meteoschweiz.klimanormwerte-niederschlag_1961_1990/netcdf/2056/RnormY6190_ch01r.swiss.lv95_000001010000_000001010000.nc)"
   ]
  },
  {
   "cell_type": "code",
   "execution_count": 2,
   "metadata": {},
   "outputs": [],
   "source": [
    "ds = xr.open_dataset('./data/RnormY6190_ch01r.swiss.lv95_000001010000_000001010000.nc', decode_times=False)\n",
    "df = ds.to_dataframe()"
   ]
  },
  {
   "cell_type": "code",
   "execution_count": 3,
   "metadata": {},
   "outputs": [],
   "source": [
    "df.to_csv(\"./data/nc.csv\")"
   ]
  },
  {
   "cell_type": "code",
   "execution_count": 4,
   "metadata": {},
   "outputs": [
    {
     "data": {
      "text/html": [
       "<div>\n",
       "<style scoped>\n",
       "    .dataframe tbody tr th:only-of-type {\n",
       "        vertical-align: middle;\n",
       "    }\n",
       "\n",
       "    .dataframe tbody tr th {\n",
       "        vertical-align: top;\n",
       "    }\n",
       "\n",
       "    .dataframe thead th {\n",
       "        text-align: right;\n",
       "    }\n",
       "</style>\n",
       "<table border=\"1\" class=\"dataframe\">\n",
       "  <thead>\n",
       "    <tr style=\"text-align: right;\">\n",
       "      <th></th>\n",
       "      <th></th>\n",
       "      <th></th>\n",
       "      <th></th>\n",
       "      <th>swiss_lv95_coordinates</th>\n",
       "      <th>climatology_bounds</th>\n",
       "      <th>RnormY6190</th>\n",
       "      <th>lon</th>\n",
       "      <th>lat</th>\n",
       "    </tr>\n",
       "    <tr>\n",
       "      <th>ncb</th>\n",
       "      <th>time</th>\n",
       "      <th>E</th>\n",
       "      <th>N</th>\n",
       "      <th></th>\n",
       "      <th></th>\n",
       "      <th></th>\n",
       "      <th></th>\n",
       "      <th></th>\n",
       "    </tr>\n",
       "  </thead>\n",
       "  <tbody>\n",
       "    <tr>\n",
       "      <th rowspan=\"5\" valign=\"top\">1.0</th>\n",
       "      <th rowspan=\"5\" valign=\"top\">0.0</th>\n",
       "      <th rowspan=\"5\" valign=\"top\">2474500.0</th>\n",
       "      <th>1064500.0</th>\n",
       "      <td>1.0</td>\n",
       "      <td>0.0</td>\n",
       "      <td>NaN</td>\n",
       "      <td>5.826852</td>\n",
       "      <td>45.720608</td>\n",
       "    </tr>\n",
       "    <tr>\n",
       "      <th>1065500.0</th>\n",
       "      <td>1.0</td>\n",
       "      <td>0.0</td>\n",
       "      <td>NaN</td>\n",
       "      <td>5.826589</td>\n",
       "      <td>45.729603</td>\n",
       "    </tr>\n",
       "    <tr>\n",
       "      <th>1066500.0</th>\n",
       "      <td>1.0</td>\n",
       "      <td>0.0</td>\n",
       "      <td>NaN</td>\n",
       "      <td>5.826325</td>\n",
       "      <td>45.738594</td>\n",
       "    </tr>\n",
       "    <tr>\n",
       "      <th>1067500.0</th>\n",
       "      <td>1.0</td>\n",
       "      <td>0.0</td>\n",
       "      <td>NaN</td>\n",
       "      <td>5.826061</td>\n",
       "      <td>45.747589</td>\n",
       "    </tr>\n",
       "    <tr>\n",
       "      <th>1068500.0</th>\n",
       "      <td>1.0</td>\n",
       "      <td>0.0</td>\n",
       "      <td>NaN</td>\n",
       "      <td>5.825797</td>\n",
       "      <td>45.756580</td>\n",
       "    </tr>\n",
       "  </tbody>\n",
       "</table>\n",
       "</div>"
      ],
      "text/plain": [
       "                              swiss_lv95_coordinates  climatology_bounds  \\\n",
       "ncb time E         N                                                       \n",
       "1.0 0.0  2474500.0 1064500.0                     1.0                 0.0   \n",
       "                   1065500.0                     1.0                 0.0   \n",
       "                   1066500.0                     1.0                 0.0   \n",
       "                   1067500.0                     1.0                 0.0   \n",
       "                   1068500.0                     1.0                 0.0   \n",
       "\n",
       "                              RnormY6190       lon        lat  \n",
       "ncb time E         N                                           \n",
       "1.0 0.0  2474500.0 1064500.0         NaN  5.826852  45.720608  \n",
       "                   1065500.0         NaN  5.826589  45.729603  \n",
       "                   1066500.0         NaN  5.826325  45.738594  \n",
       "                   1067500.0         NaN  5.826061  45.747589  \n",
       "                   1068500.0         NaN  5.825797  45.756580  "
      ]
     },
     "execution_count": 4,
     "metadata": {},
     "output_type": "execute_result"
    }
   ],
   "source": [
    "df.head()"
   ]
  },
  {
   "cell_type": "code",
   "execution_count": 7,
   "metadata": {},
   "outputs": [],
   "source": [
    "gdf = gpd.GeoDataFrame(\n",
    "    df, geometry=gpd.points_from_xy(df.lon, df.lat))"
   ]
  },
  {
   "cell_type": "code",
   "execution_count": 10,
   "metadata": {},
   "outputs": [
    {
     "data": {
      "text/plain": [
       "<AxesSubplot:>"
      ]
     },
     "execution_count": 10,
     "metadata": {},
     "output_type": "execute_result"
    },
    {
     "data": {
      "image/png": "[encoded data removed]",
      "text/plain": [
       "<Figure size 432x288 with 1 Axes>"
      ]
     },
     "metadata": {
      "needs_background": "light"
     },
     "output_type": "display_data"
    }
   ],
   "source": [
    "gdf.plot(column =\"RnormY6190\")"
   ]
  },
  {
   "cell_type": "code",
   "execution_count": 8,
   "metadata": {},
   "outputs": [],
   "source": [
    "gdf.to_file(\"./data/geojson.json\", driver=\"GeoJSON\") # allow to get an geojson file, I use it on kepler to \"play\" around more easily"
   ]
  },
  {
   "cell_type": "markdown",
   "metadata": {},
   "source": [
    "# 4. PX Example"
   ]
  },
  {
   "cell_type": "code",
   "execution_count": 1,
   "metadata": {},
   "outputs": [],
   "source": [
    "from pyaxis import pyaxis\n",
    "\n",
    "#set file path (or URL)\n",
    "fp = r\"https://dam-api.bfs.admin.ch/hub/api/dam/assets/12947667/master\" \n",
    "#parse contents of *.px file\n",
    "px = pyaxis.parse(uri = fp , encoding = 'ISO-8859-2')\n",
    "\n",
    "#store data as pandas dataframe\n",
    "data_df = px['DATA']\n",
    "#store metadata as a dictionary (not necessary in this case, but might be helpful)\n",
    "meta_dict = px['METADATA']"
   ]
  },
  {
   "cell_type": "code",
   "execution_count": 2,
   "metadata": {},
   "outputs": [
    {
     "data": {
      "text/html": [
       "<div>\n",
       "<style scoped>\n",
       "    .dataframe tbody tr th:only-of-type {\n",
       "        vertical-align: middle;\n",
       "    }\n",
       "\n",
       "    .dataframe tbody tr th {\n",
       "        vertical-align: top;\n",
       "    }\n",
       "\n",
       "    .dataframe thead th {\n",
       "        text-align: right;\n",
       "    }\n",
       "</style>\n",
       "<table border=\"1\" class=\"dataframe\">\n",
       "  <thead>\n",
       "    <tr style=\"text-align: right;\">\n",
       "      <th></th>\n",
       "      <th>Szenario-Variante</th>\n",
       "      <th>Staatsangehörigkeit (Kategorie)</th>\n",
       "      <th>Geschlecht</th>\n",
       "      <th>Altersklasse</th>\n",
       "      <th>Jahr</th>\n",
       "      <th>Beobachtungseinheit</th>\n",
       "      <th>DATA</th>\n",
       "    </tr>\n",
       "  </thead>\n",
       "  <tbody>\n",
       "    <tr>\n",
       "      <th>0</th>\n",
       "      <td>Referenzszenario A-00-2020</td>\n",
       "      <td>Staatsangehörigkeit - Total</td>\n",
       "      <td>Geschlecht - Total</td>\n",
       "      <td>Altersklasse - Total</td>\n",
       "      <td>2019</td>\n",
       "      <td>Bevölkerungsstand am 1. Januar</td>\n",
       "      <td>8544527</td>\n",
       "    </tr>\n",
       "    <tr>\n",
       "      <th>1</th>\n",
       "      <td>Referenzszenario A-00-2020</td>\n",
       "      <td>Staatsangehörigkeit - Total</td>\n",
       "      <td>Geschlecht - Total</td>\n",
       "      <td>Altersklasse - Total</td>\n",
       "      <td>2019</td>\n",
       "      <td>Lebendgeburten</td>\n",
       "      <td>88682</td>\n",
       "    </tr>\n",
       "    <tr>\n",
       "      <th>2</th>\n",
       "      <td>Referenzszenario A-00-2020</td>\n",
       "      <td>Staatsangehörigkeit - Total</td>\n",
       "      <td>Geschlecht - Total</td>\n",
       "      <td>Altersklasse - Total</td>\n",
       "      <td>2019</td>\n",
       "      <td>Todesfälle</td>\n",
       "      <td>67363</td>\n",
       "    </tr>\n",
       "    <tr>\n",
       "      <th>3</th>\n",
       "      <td>Referenzszenario A-00-2020</td>\n",
       "      <td>Staatsangehörigkeit - Total</td>\n",
       "      <td>Geschlecht - Total</td>\n",
       "      <td>Altersklasse - Total</td>\n",
       "      <td>2019</td>\n",
       "      <td>Einwanderungen</td>\n",
       "      <td>175000</td>\n",
       "    </tr>\n",
       "    <tr>\n",
       "      <th>4</th>\n",
       "      <td>Referenzszenario A-00-2020</td>\n",
       "      <td>Staatsangehörigkeit - Total</td>\n",
       "      <td>Geschlecht - Total</td>\n",
       "      <td>Altersklasse - Total</td>\n",
       "      <td>2019</td>\n",
       "      <td>Auswanderungen</td>\n",
       "      <td>125000</td>\n",
       "    </tr>\n",
       "    <tr>\n",
       "      <th>...</th>\n",
       "      <td>...</td>\n",
       "      <td>...</td>\n",
       "      <td>...</td>\n",
       "      <td>...</td>\n",
       "      <td>...</td>\n",
       "      <td>...</td>\n",
       "      <td>...</td>\n",
       "    </tr>\n",
       "    <tr>\n",
       "      <th>1497595</th>\n",
       "      <td>Variante A-07-2020 'stabile Auswanderungsziffern'</td>\n",
       "      <td>Ausland Nicht-EWR</td>\n",
       "      <td>Frau</td>\n",
       "      <td>115-120 Jahre</td>\n",
       "      <td>2070</td>\n",
       "      <td>Einwanderungen</td>\n",
       "      <td>0</td>\n",
       "    </tr>\n",
       "    <tr>\n",
       "      <th>1497596</th>\n",
       "      <td>Variante A-07-2020 'stabile Auswanderungsziffern'</td>\n",
       "      <td>Ausland Nicht-EWR</td>\n",
       "      <td>Frau</td>\n",
       "      <td>115-120 Jahre</td>\n",
       "      <td>2070</td>\n",
       "      <td>Auswanderungen</td>\n",
       "      <td>0</td>\n",
       "    </tr>\n",
       "    <tr>\n",
       "      <th>1497597</th>\n",
       "      <td>Variante A-07-2020 'stabile Auswanderungsziffern'</td>\n",
       "      <td>Ausland Nicht-EWR</td>\n",
       "      <td>Frau</td>\n",
       "      <td>115-120 Jahre</td>\n",
       "      <td>2070</td>\n",
       "      <td>Erwerb des Schweizer Bürgerrechts</td>\n",
       "      <td>0</td>\n",
       "    </tr>\n",
       "    <tr>\n",
       "      <th>1497598</th>\n",
       "      <td>Variante A-07-2020 'stabile Auswanderungsziffern'</td>\n",
       "      <td>Ausland Nicht-EWR</td>\n",
       "      <td>Frau</td>\n",
       "      <td>115-120 Jahre</td>\n",
       "      <td>2070</td>\n",
       "      <td>Bevölkerungsstand am 31. Dezember</td>\n",
       "      <td>0</td>\n",
       "    </tr>\n",
       "    <tr>\n",
       "      <th>1497599</th>\n",
       "      <td>Variante A-07-2020 'stabile Auswanderungsziffern'</td>\n",
       "      <td>Ausland Nicht-EWR</td>\n",
       "      <td>Frau</td>\n",
       "      <td>115-120 Jahre</td>\n",
       "      <td>2070</td>\n",
       "      <td>Lebendgeburten nach Alter und Staatsangehörigk...</td>\n",
       "      <td>0</td>\n",
       "    </tr>\n",
       "  </tbody>\n",
       "</table>\n",
       "<p>1497600 rows × 7 columns</p>\n",
       "</div>"
      ],
      "text/plain": [
       "                                         Szenario-Variante  \\\n",
       "0                               Referenzszenario A-00-2020   \n",
       "1                               Referenzszenario A-00-2020   \n",
       "2                               Referenzszenario A-00-2020   \n",
       "3                               Referenzszenario A-00-2020   \n",
       "4                               Referenzszenario A-00-2020   \n",
       "...                                                    ...   \n",
       "1497595  Variante A-07-2020 'stabile Auswanderungsziffern'   \n",
       "1497596  Variante A-07-2020 'stabile Auswanderungsziffern'   \n",
       "1497597  Variante A-07-2020 'stabile Auswanderungsziffern'   \n",
       "1497598  Variante A-07-2020 'stabile Auswanderungsziffern'   \n",
       "1497599  Variante A-07-2020 'stabile Auswanderungsziffern'   \n",
       "\n",
       "        Staatsangehörigkeit (Kategorie)          Geschlecht  \\\n",
       "0           Staatsangehörigkeit - Total  Geschlecht - Total   \n",
       "1           Staatsangehörigkeit - Total  Geschlecht - Total   \n",
       "2           Staatsangehörigkeit - Total  Geschlecht - Total   \n",
       "3           Staatsangehörigkeit - Total  Geschlecht - Total   \n",
       "4           Staatsangehörigkeit - Total  Geschlecht - Total   \n",
       "...                                 ...                 ...   \n",
       "1497595               Ausland Nicht-EWR                Frau   \n",
       "1497596               Ausland Nicht-EWR                Frau   \n",
       "1497597               Ausland Nicht-EWR                Frau   \n",
       "1497598               Ausland Nicht-EWR                Frau   \n",
       "1497599               Ausland Nicht-EWR                Frau   \n",
       "\n",
       "                 Altersklasse  Jahr  \\\n",
       "0        Altersklasse - Total  2019   \n",
       "1        Altersklasse - Total  2019   \n",
       "2        Altersklasse - Total  2019   \n",
       "3        Altersklasse - Total  2019   \n",
       "4        Altersklasse - Total  2019   \n",
       "...                       ...   ...   \n",
       "1497595         115-120 Jahre  2070   \n",
       "1497596         115-120 Jahre  2070   \n",
       "1497597         115-120 Jahre  2070   \n",
       "1497598         115-120 Jahre  2070   \n",
       "1497599         115-120 Jahre  2070   \n",
       "\n",
       "                                       Beobachtungseinheit     DATA  \n",
       "0                           Bevölkerungsstand am 1. Januar  8544527  \n",
       "1                                           Lebendgeburten    88682  \n",
       "2                                               Todesfälle    67363  \n",
       "3                                           Einwanderungen   175000  \n",
       "4                                           Auswanderungen   125000  \n",
       "...                                                    ...      ...  \n",
       "1497595                                     Einwanderungen        0  \n",
       "1497596                                     Auswanderungen        0  \n",
       "1497597                  Erwerb des Schweizer Bürgerrechts        0  \n",
       "1497598                  Bevölkerungsstand am 31. Dezember        0  \n",
       "1497599  Lebendgeburten nach Alter und Staatsangehörigk...        0  \n",
       "\n",
       "[1497600 rows x 7 columns]"
      ]
     },
     "execution_count": 2,
     "metadata": {},
     "output_type": "execute_result"
    }
   ],
   "source": [
    "data_df"
   ]
  },
  {
   "cell_type": "markdown",
   "metadata": {},
   "source": [
    "# 5 WFS Example"
   ]
  },
  {
   "cell_type": "code",
   "execution_count": 5,
   "metadata": {},
   "outputs": [],
   "source": [
    "from owslib.wfs import WebFeatureService\n",
    "from requests import Request\n",
    "url = \"https://map.geo.sz.ch/mapserv_proxy\" # WFS URL as Example\n",
    "wfs = WebFeatureService(url=url, version = \"1.1.0\") # Depending on the provider, you can use version 2.0.0\n",
    "layer_list = list(wfs.contents) # Gives you a list of layers available for this URL\n",
    "layer = \"ms:ch.sz.a012.naturgefahrenkarte.synoptisch.aggregiert.gstufe_erheblich_mittel\" # Layer to adapt"
   ]
  },
  {
   "cell_type": "code",
   "execution_count": 6,
   "metadata": {},
   "outputs": [],
   "source": [
    "response = wfs.getfeature(typename=layer, maxfeatures=10) #Max Features set to 100 for example, you can remove it\n",
    "data = response.read()"
   ]
  },
  {
   "cell_type": "code",
   "execution_count": 7,
   "metadata": {},
   "outputs": [],
   "source": [
    "with tempfile.NamedTemporaryFile() as temp:\n",
    "    temp.write(data)\n",
    "    gdf = gpd.read_file(temp.name)"
   ]
  },
  {
   "cell_type": "code",
   "execution_count": 8,
   "metadata": {},
   "outputs": [
    {
     "data": {
      "text/html": [
       "<div>\n",
       "<style scoped>\n",
       "    .dataframe tbody tr th:only-of-type {\n",
       "        vertical-align: middle;\n",
       "    }\n",
       "\n",
       "    .dataframe tbody tr th {\n",
       "        vertical-align: top;\n",
       "    }\n",
       "\n",
       "    .dataframe thead th {\n",
       "        text-align: right;\n",
       "    }\n",
       "</style>\n",
       "<table border=\"1\" class=\"dataframe\">\n",
       "  <thead>\n",
       "    <tr style=\"text-align: right;\">\n",
       "      <th></th>\n",
       "      <th>gml_id</th>\n",
       "      <th>label_hochwasser</th>\n",
       "      <th>label_rutschung</th>\n",
       "      <th>label_sturz</th>\n",
       "      <th>label_lawine</th>\n",
       "      <th>label_gleitschnee</th>\n",
       "      <th>label_doline</th>\n",
       "      <th>pzg_cd</th>\n",
       "      <th>geometry</th>\n",
       "    </tr>\n",
       "  </thead>\n",
       "  <tbody>\n",
       "    <tr>\n",
       "      <th>0</th>\n",
       "      <td>ch.sz.a012.naturgefahrenkarte.synoptisch.aggre...</td>\n",
       "      <td>keine Gefährdung</td>\n",
       "      <td>Gefahrenhinweis</td>\n",
       "      <td>keine Gefährdung</td>\n",
       "      <td>keine Gefährdung</td>\n",
       "      <td>keine Gefährdung</td>\n",
       "      <td>keine Gefährdung</td>\n",
       "      <td>50</td>\n",
       "      <td>POLYGON ((2705390.210 1212769.050, 2705390.250...</td>\n",
       "    </tr>\n",
       "    <tr>\n",
       "      <th>1</th>\n",
       "      <td>ch.sz.a012.naturgefahrenkarte.synoptisch.aggre...</td>\n",
       "      <td>Gefahrenhinweis</td>\n",
       "      <td>Gefahrenhinweis</td>\n",
       "      <td>keine Gefährdung</td>\n",
       "      <td>keine Gefährdung</td>\n",
       "      <td>keine Gefährdung</td>\n",
       "      <td>keine Gefährdung</td>\n",
       "      <td>550</td>\n",
       "      <td>POLYGON ((2700145.828 1210144.033, 2700146.953...</td>\n",
       "    </tr>\n",
       "    <tr>\n",
       "      <th>2</th>\n",
       "      <td>ch.sz.a012.naturgefahrenkarte.synoptisch.aggre...</td>\n",
       "      <td>keine Gefährdung</td>\n",
       "      <td>Gefahrenhinweis</td>\n",
       "      <td>Gefahrenhinweis</td>\n",
       "      <td>keine Gefährdung</td>\n",
       "      <td>keine Gefährdung</td>\n",
       "      <td>keine Gefährdung</td>\n",
       "      <td>5050</td>\n",
       "      <td>POLYGON ((2705177.353 1212297.518, 2705175.310...</td>\n",
       "    </tr>\n",
       "    <tr>\n",
       "      <th>3</th>\n",
       "      <td>ch.sz.a012.naturgefahrenkarte.synoptisch.aggre...</td>\n",
       "      <td>Gefahrenhinweis</td>\n",
       "      <td>Gefahrenhinweis</td>\n",
       "      <td>keine Gefährdung</td>\n",
       "      <td>keine Gefährdung</td>\n",
       "      <td>Gefahrenhinweis</td>\n",
       "      <td>keine Gefährdung</td>\n",
       "      <td>50550</td>\n",
       "      <td>POLYGON ((2701633.270 1208592.200, 2701634.770...</td>\n",
       "    </tr>\n",
       "    <tr>\n",
       "      <th>4</th>\n",
       "      <td>ch.sz.a012.naturgefahrenkarte.synoptisch.aggre...</td>\n",
       "      <td>keine Gefährdung</td>\n",
       "      <td>keine Gefährdung</td>\n",
       "      <td>Gefahrenhinweis</td>\n",
       "      <td>Gefahrenhinweis</td>\n",
       "      <td>Gefahrenhinweis</td>\n",
       "      <td>keine Gefährdung</td>\n",
       "      <td>555000</td>\n",
       "      <td>POLYGON ((2705049.635 1207076.152, 2705045.958...</td>\n",
       "    </tr>\n",
       "  </tbody>\n",
       "</table>\n",
       "</div>"
      ],
      "text/plain": [
       "                                              gml_id  label_hochwasser  \\\n",
       "0  ch.sz.a012.naturgefahrenkarte.synoptisch.aggre...  keine Gefährdung   \n",
       "1  ch.sz.a012.naturgefahrenkarte.synoptisch.aggre...   Gefahrenhinweis   \n",
       "2  ch.sz.a012.naturgefahrenkarte.synoptisch.aggre...  keine Gefährdung   \n",
       "3  ch.sz.a012.naturgefahrenkarte.synoptisch.aggre...   Gefahrenhinweis   \n",
       "4  ch.sz.a012.naturgefahrenkarte.synoptisch.aggre...  keine Gefährdung   \n",
       "\n",
       "    label_rutschung       label_sturz      label_lawine label_gleitschnee  \\\n",
       "0   Gefahrenhinweis  keine Gefährdung  keine Gefährdung  keine Gefährdung   \n",
       "1   Gefahrenhinweis  keine Gefährdung  keine Gefährdung  keine Gefährdung   \n",
       "2   Gefahrenhinweis   Gefahrenhinweis  keine Gefährdung  keine Gefährdung   \n",
       "3   Gefahrenhinweis  keine Gefährdung  keine Gefährdung   Gefahrenhinweis   \n",
       "4  keine Gefährdung   Gefahrenhinweis   Gefahrenhinweis   Gefahrenhinweis   \n",
       "\n",
       "       label_doline  pzg_cd                                           geometry  \n",
       "0  keine Gefährdung      50  POLYGON ((2705390.210 1212769.050, 2705390.250...  \n",
       "1  keine Gefährdung     550  POLYGON ((2700145.828 1210144.033, 2700146.953...  \n",
       "2  keine Gefährdung    5050  POLYGON ((2705177.353 1212297.518, 2705175.310...  \n",
       "3  keine Gefährdung   50550  POLYGON ((2701633.270 1208592.200, 2701634.770...  \n",
       "4  keine Gefährdung  555000  POLYGON ((2705049.635 1207076.152, 2705045.958...  "
      ]
     },
     "execution_count": 8,
     "metadata": {},
     "output_type": "execute_result"
    }
   ],
   "source": [
    "gdf.head()"
   ]
  },
  {
   "cell_type": "markdown",
   "metadata": {},
   "source": [
    "# 6 API ARCGIS Example"
   ]
  },
  {
   "cell_type": "code",
   "execution_count": 380,
   "metadata": {},
   "outputs": [],
   "source": [
    "url = \"https://api.geo.admin.ch/rest/services/api/MapServer/identify\"\n",
    "\n",
    "envelope = \"548945.5,147956,549402,148103.5\" # Swiss coordinates 21781\n",
    "layers = \"all:ch.are.belastung-personenverkehr-bahn_zukunft\" # Layer selected\n",
    "todo = {\"layers\":layers,\n",
    "        \"geometryType\":\"esriGeometryEnvelope\", \n",
    "        \"geometry\":envelope,\n",
    "        \"geometryFormat\":\"geojson\", \n",
    "        \"tolerance\":\"1\", \n",
    "        \"imageDisplay\":\"500,600,96\", \n",
    "        \"mapExtent\":envelope}\n",
    "response = requests.get(url, params = todo)"
   ]
  },
  {
   "cell_type": "code",
   "execution_count": 381,
   "metadata": {},
   "outputs": [],
   "source": [
    "json_file = json.loads(response.content)\n",
    "df = pd.read_json(json.dumps(json_file[\"results\"]))"
   ]
  },
  {
   "cell_type": "code",
   "execution_count": 382,
   "metadata": {},
   "outputs": [],
   "source": [
    "# Transform column geom into a geoshape\n",
    "from shapely.geometry import shape\n",
    "def transform_to_shape(origin):\n",
    "    temp = [origin]\n",
    "    geom = [shape(i) for i in temp]\n",
    "    return geom[0]\n",
    "df['geom'] = df.apply(lambda row : transform_to_shape(row['geometry']), axis = 1)\n",
    "gdf = gpd.GeoDataFrame(df, geometry=df[\"geom\"])\n",
    "gdf = gdf.set_crs(\"21781\").to_crs(\"4326\")\n",
    "gdf[\"geometry\"].plot()"
   ]
  },
  {
   "cell_type": "code",
   "execution_count": 385,
   "metadata": {},
   "outputs": [],
   "source": [
    "df1 = pd.DataFrame(df['properties'].values.tolist())\n",
    "final_df = df[[\"id\", \"layerName\", \"geometry\"]].join(df1)"
   ]
  },
  {
   "cell_type": "code",
   "execution_count": 386,
   "metadata": {},
   "outputs": [
    {
     "data": {
      "text/html": [
       "<div>\n",
       "<style scoped>\n",
       "    .dataframe tbody tr th:only-of-type {\n",
       "        vertical-align: middle;\n",
       "    }\n",
       "\n",
       "    .dataframe tbody tr th {\n",
       "        vertical-align: top;\n",
       "    }\n",
       "\n",
       "    .dataframe thead th {\n",
       "        text-align: right;\n",
       "    }\n",
       "</style>\n",
       "<table border=\"1\" class=\"dataframe\">\n",
       "  <thead>\n",
       "    <tr style=\"text-align: right;\">\n",
       "      <th></th>\n",
       "      <th>id</th>\n",
       "      <th>layerName</th>\n",
       "      <th>geometry</th>\n",
       "      <th>nr</th>\n",
       "      <th>dwv_oev</th>\n",
       "      <th>dtv_oev</th>\n",
       "      <th>msp_oev</th>\n",
       "      <th>asp_oev</th>\n",
       "      <th>label</th>\n",
       "    </tr>\n",
       "  </thead>\n",
       "  <tbody>\n",
       "    <tr>\n",
       "      <th>0</th>\n",
       "      <td>7646</td>\n",
       "      <td>Personenverkehr Schiene 2050</td>\n",
       "      <td>LINESTRING (548128.800 148744.100, 548130.800 ...</td>\n",
       "      <td>980000896</td>\n",
       "      <td>1794</td>\n",
       "      <td>1594</td>\n",
       "      <td>155</td>\n",
       "      <td>177</td>\n",
       "      <td>980000896</td>\n",
       "    </tr>\n",
       "    <tr>\n",
       "      <th>1</th>\n",
       "      <td>7647</td>\n",
       "      <td>Personenverkehr Schiene 2050</td>\n",
       "      <td>LINESTRING (549310.000 147962.100, 549316.200 ...</td>\n",
       "      <td>980000896</td>\n",
       "      <td>2157</td>\n",
       "      <td>1951</td>\n",
       "      <td>170</td>\n",
       "      <td>220</td>\n",
       "      <td>980000896</td>\n",
       "    </tr>\n",
       "  </tbody>\n",
       "</table>\n",
       "</div>"
      ],
      "text/plain": [
       "     id                     layerName  \\\n",
       "0  7646  Personenverkehr Schiene 2050   \n",
       "1  7647  Personenverkehr Schiene 2050   \n",
       "\n",
       "                                            geometry         nr  dwv_oev  \\\n",
       "0  LINESTRING (548128.800 148744.100, 548130.800 ...  980000896     1794   \n",
       "1  LINESTRING (549310.000 147962.100, 549316.200 ...  980000896     2157   \n",
       "\n",
       "   dtv_oev  msp_oev  asp_oev      label  \n",
       "0     1594      155      177  980000896  \n",
       "1     1951      170      220  980000896  "
      ]
     },
     "execution_count": 386,
     "metadata": {},
     "output_type": "execute_result"
    }
   ],
   "source": [
    "final_df"
   ]
  }
 ],
 "metadata": {
  "kernelspec": {
   "display_name": "Python 3",
   "language": "python",
   "name": "python3"
  },
  "language_info": {
   "codemirror_mode": {
    "name": "ipython",
    "version": 3
   },
   "file_extension": ".py",
   "mimetype": "text/x-python",
   "name": "python",
   "nbconvert_exporter": "python",
   "pygments_lexer": "ipython3",
   "version": "3.7.4"
  }
 },
 "nbformat": 4,
 "nbformat_minor": 5
}
